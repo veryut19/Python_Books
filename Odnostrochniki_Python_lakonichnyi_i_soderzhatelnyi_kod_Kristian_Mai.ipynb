{
  "nbformat": 4,
  "nbformat_minor": 0,
  "metadata": {
    "colab": {
      "provenance": [],
      "toc_visible": true,
      "authorship_tag": "ABX9TyO47IJ3nylOeJ+e+qq3L7Tq",
      "include_colab_link": true
    },
    "kernelspec": {
      "name": "python3",
      "display_name": "Python 3"
    },
    "language_info": {
      "name": "python"
    }
  },
  "cells": [
    {
      "cell_type": "markdown",
      "metadata": {
        "id": "view-in-github",
        "colab_type": "text"
      },
      "source": [
        "<a href=\"https://colab.research.google.com/github/veryut19/Python_Books/blob/main/Odnostrochniki_Python_lakonichnyi_i_soderzhatelnyi_kod_Kristian_Mai.ipynb\" target=\"_parent\"><img src=\"https://colab.research.google.com/assets/colab-badge.svg\" alt=\"Open In Colab\"/></a>"
      ]
    },
    {
      "cell_type": "markdown",
      "source": [
        "# Сhapter 1\n"
      ],
      "metadata": {
        "id": "7rEiQ4dTKjfp"
      }
    },
    {
      "cell_type": "markdown",
      "source": [
        "Listing 1.1. Numeric data types "
      ],
      "metadata": {
        "id": "f0dkbA5CFTQ5"
      }
    },
    {
      "cell_type": "code",
      "source": [
        "## Arithmetic operations\n",
        "x, y = 3, 2\n",
        "print(x + y) # = 5\n",
        "print(x - y) # = 1\n",
        "print(x * y) # = 6\n",
        "print(x / y) # = 1.5\n",
        "print(x // y) # = 1\n",
        "print(x % y) # = 1\n",
        "print(-x) # = -3\n",
        "print(abs(-x)) # = 3\n",
        "print(int(3.9)) # = 3\n",
        "print(float(x)) # = 3.0\n",
        "print(x ** y) # = 9"
      ],
      "metadata": {
        "colab": {
          "base_uri": "https://localhost:8080/"
        },
        "id": "ROgGlIDzFcHn",
        "outputId": "517b5928-26da-4dde-81f3-bc8b2fef4802"
      },
      "execution_count": 1,
      "outputs": [
        {
          "output_type": "stream",
          "name": "stdout",
          "text": [
            "5\n",
            "1\n",
            "6\n",
            "1.5\n",
            "1\n",
            "1\n",
            "-3\n",
            "3\n",
            "3\n",
            "3.0\n",
            "9\n"
          ]
        }
      ]
    },
    {
      "cell_type": "markdown",
      "source": [
        "Listing 1.2. Boolean values False and True"
      ],
      "metadata": {
        "id": "BNWiOXTRFqhd"
      }
    },
    {
      "cell_type": "code",
      "source": [
        "x = 1 > 2 \n",
        "print(x) # False\n",
        "y = 2 > 1 \n",
        "print(y) # True"
      ],
      "metadata": {
        "colab": {
          "base_uri": "https://localhost:8080/"
        },
        "id": "diVqK8JTFreJ",
        "outputId": "812ec42d-9ead-4308-bee5-d7190ae1353a"
      },
      "execution_count": 3,
      "outputs": [
        {
          "output_type": "stream",
          "name": "stdout",
          "text": [
            "False\n",
            "True\n"
          ]
        }
      ]
    },
    {
      "cell_type": "markdown",
      "source": [
        "Listing 1.3. Keywords and, or and not"
      ],
      "metadata": {
        "id": "6gEcmFVtF7pE"
      }
    },
    {
      "cell_type": "code",
      "source": [
        "x, y = True, False\n",
        "print((x or y) == True)\n",
        "# True\n",
        "print((x and y) == False)\n",
        "# True\n",
        "print((not y) == True)\n",
        "# True"
      ],
      "metadata": {
        "colab": {
          "base_uri": "https://localhost:8080/"
        },
        "id": "xJNfMJqjF8iK",
        "outputId": "3c3bc667-bbb0-42b1-8750-3beb3b3cb6cb"
      },
      "execution_count": 4,
      "outputs": [
        {
          "output_type": "stream",
          "name": "stdout",
          "text": [
            "True\n",
            "True\n",
            "True\n"
          ]
        }
      ]
    },
    {
      "cell_type": "markdown",
      "source": [
        "Listing 1.5. String data types"
      ],
      "metadata": {
        "id": "VtLY1wU7GJAi"
      }
    },
    {
      "cell_type": "code",
      "source": [
        "## The most important methods for working with strings\n",
        "y = \" This is lazy\\t\\n \"\n",
        "print(y.strip())\n",
        "# Removing spaces: 'This is lazy'\n",
        "print(\"Dr Dre\".lower())\n",
        "# # In lowercase: 'dr dre'\n",
        "print(\"attention\".upper())\n",
        "# Uppercase: 'ATTENTION'\n",
        "print(\"smartphone\".startswith(\"smart\"))\n",
        "# Matches the string prefix with the argument: True\n",
        "print(\"smartphone\".endswith(\"phone\"))\n",
        "# Matches the string suffix with the argument: True\n",
        "print(\"another\".find(\"other\"))\n",
        "# Index of the found occurrence: 2\n",
        "print(\"cheat\".replace(\"ch\", \"m\"))\n",
        "# Replaces all occurrences of the first argument with the second: meat\n",
        "print(','.join([\"F\", \"B\", \"I\"]))\n",
        "# Glues all elements list using a delimiter string: F,B,I\n",
        "print(len(\"Rumpelstiltskin\"))\n",
        "# String length: 15\n",
        "print(\"year\" in \"earth\")\n",
        "# Contains: True"
      ],
      "metadata": {
        "colab": {
          "base_uri": "https://localhost:8080/"
        },
        "id": "SUtW-HPcGLaa",
        "outputId": "d2d0ffe1-ae03-4ff8-f6a3-5afd0e13fe09"
      },
      "execution_count": 6,
      "outputs": [
        {
          "output_type": "stream",
          "name": "stdout",
          "text": [
            "This is lazy\n",
            "dr dre\n",
            "ATTENTION\n",
            "True\n",
            "True\n",
            "2\n",
            "meat\n",
            "F,B,I\n",
            "15\n",
            "False\n"
          ]
        }
      ]
    },
    {
      "cell_type": "markdown",
      "source": [
        "Listing 1.6. Keyword None"
      ],
      "metadata": {
        "id": "_0O5YQR5GnPa"
      }
    },
    {
      "cell_type": "code",
      "source": [
        "def f():\n",
        "  x= 2\n",
        "\n",
        "print(f() is None)\n",
        "# True\n",
        "print(\"\" == None)\n",
        "# False\n",
        "print(0 == None)\n",
        "# False"
      ],
      "metadata": {
        "colab": {
          "base_uri": "https://localhost:8080/"
        },
        "id": "5pFY4BYqGoqK",
        "outputId": "aa0ab562-b8dd-4632-fa9b-be4c20f3e347"
      },
      "execution_count": 7,
      "outputs": [
        {
          "output_type": "stream",
          "name": "stdout",
          "text": [
            "True\n",
            "False\n",
            "False\n"
          ]
        }
      ]
    },
    {
      "cell_type": "markdown",
      "source": [
        "Listing 1.7. The is keyword"
      ],
      "metadata": {
        "id": "80gmvmEaG621"
      }
    },
    {
      "cell_type": "code",
      "source": [
        "y= x = 3\n",
        "print(x is y)\n",
        "# True\n",
        "print([3] is [3])\n",
        "# False"
      ],
      "metadata": {
        "colab": {
          "base_uri": "https://localhost:8080/"
        },
        "id": "s80KkM1AG7uO",
        "outputId": "e6beec3c-5c11-4199-8159-4fefa22f87ee"
      },
      "execution_count": 8,
      "outputs": [
        {
          "output_type": "stream",
          "name": "stdout",
          "text": [
            "True\n",
            "False\n"
          ]
        }
      ]
    },
    {
      "cell_type": "code",
      "source": [
        "# 1. Adding to the end of the list\n",
        "l = [1, 2, 2]\n",
        "l.append(4)\n",
        "print(l)\n",
        "# [1, 2, 2, 4]\n",
        "# 2. Insert\n",
        "l = [1, 2, 4]\n",
        "l.insert(2, 3)\n",
        "print(l)\n",
        "# [1, 2, 3, 4]\n",
        "# 3. List concatenation\n",
        "print([1, 2, 2] + [4])\n",
        "# [1, 2, 2, 4]"
      ],
      "metadata": {
        "colab": {
          "base_uri": "https://localhost:8080/"
        },
        "id": "qY8KdDlLHE_v",
        "outputId": "d97818a6-8c2c-4502-e481-912e9d9e0d3d"
      },
      "execution_count": 9,
      "outputs": [
        {
          "output_type": "stream",
          "name": "stdout",
          "text": [
            "[1, 2, 2, 4]\n",
            "[1, 2, 3, 4]\n",
            "[1, 2, 2, 4]\n"
          ]
        }
      ]
    },
    {
      "cell_type": "code",
      "source": [
        "l = [1, 2, 2, 4]\n",
        "l.remove(1)\n",
        "print(l)\n",
        "# [2, 2, 4]"
      ],
      "metadata": {
        "colab": {
          "base_uri": "https://localhost:8080/"
        },
        "id": "_2UlnzagHMxI",
        "outputId": "2cdba93d-536b-4d88-fbb8-24b0b14b4811"
      },
      "execution_count": 10,
      "outputs": [
        {
          "output_type": "stream",
          "name": "stdout",
          "text": [
            "[2, 2, 4]\n"
          ]
        }
      ]
    },
    {
      "cell_type": "code",
      "source": [
        "l = [1, 2, 2, 4]\n",
        "l.reverse()\n",
        "print(l)\n",
        "# [4, 2, 2, 1]"
      ],
      "metadata": {
        "colab": {
          "base_uri": "https://localhost:8080/"
        },
        "id": "IpZBeMDRHPno",
        "outputId": "6c1881ac-34b1-437d-aa9e-87325f8a5b62"
      },
      "execution_count": 11,
      "outputs": [
        {
          "output_type": "stream",
          "name": "stdout",
          "text": [
            "[4, 2, 2, 1]\n"
          ]
        }
      ]
    },
    {
      "cell_type": "code",
      "source": [
        "l = [2, 1, 4, 2]\n",
        "l.sort()\n",
        "print(l)\n",
        "# [1, 2, 2, 4]"
      ],
      "metadata": {
        "colab": {
          "base_uri": "https://localhost:8080/"
        },
        "id": "lRGskNa7HSaX",
        "outputId": "df23c345-8347-4aba-c313-bf180026b347"
      },
      "execution_count": 12,
      "outputs": [
        {
          "output_type": "stream",
          "name": "stdout",
          "text": [
            "[1, 2, 2, 4]\n"
          ]
        }
      ]
    },
    {
      "cell_type": "code",
      "source": [
        "print([2, 2, 4].index(2)) #0\n",
        "print([2, 2, 4].index(2,1)) #1"
      ],
      "metadata": {
        "colab": {
          "base_uri": "https://localhost:8080/"
        },
        "id": "gBc6hStXHWGn",
        "outputId": "c5dabfed-2e28-4814-f207-a04f35e53ea0"
      },
      "execution_count": 13,
      "outputs": [
        {
          "output_type": "stream",
          "name": "stdout",
          "text": [
            "0\n",
            "1\n"
          ]
        }
      ]
    },
    {
      "cell_type": "code",
      "source": [
        "stack = [3]\n",
        "stack.append(42) # [3, 42]\n",
        "stack.pop() # 42 (stack: [3])\n",
        "stack.pop() # 3 (stack: [])"
      ],
      "metadata": {
        "colab": {
          "base_uri": "https://localhost:8080/"
        },
        "id": "765Jr6xcHa3b",
        "outputId": "504083e1-ad5a-4448-c146-fe0eba7411bd"
      },
      "execution_count": 14,
      "outputs": [
        {
          "output_type": "execute_result",
          "data": {
            "text/plain": [
              "3"
            ]
          },
          "metadata": {},
          "execution_count": 14
        }
      ]
    },
    {
      "cell_type": "markdown",
      "source": [
        "Listing 1.8. The set requires hashed elements"
      ],
      "metadata": {
        "id": "-WNZEy6DHgcX"
      }
    },
    {
      "cell_type": "code",
      "source": [
        "hero = \"Harry\"\n",
        "guide = \"Dumbledore\"\n",
        "enemy = \"Lord V.\"\n",
        "print(hash(hero))\n",
        "# 6175908009919104006\n",
        "print(hash(guide))\n",
        "# -5197671124693729851\n",
        "characters = {hero, guide, enemy}\n",
        "print(characters)\n",
        "# {'Lord V.', 'Dumbledore', 'Harry'}"
      ],
      "metadata": {
        "colab": {
          "base_uri": "https://localhost:8080/"
        },
        "id": "E65ff9ZzHcNY",
        "outputId": "feb55d56-a778-4b49-8dbc-f88b6a58cd56"
      },
      "execution_count": 16,
      "outputs": [
        {
          "output_type": "stream",
          "name": "stdout",
          "text": [
            "2334902610666332610\n",
            "-486331851813376259\n",
            "{'Harry', 'Lord V.', 'Dumbledore'}\n"
          ]
        }
      ]
    },
    {
      "cell_type": "code",
      "source": [
        "team_1 = [hero, guide]\n",
        "team_2 = [enemy]\n",
        "teams = {team_1, team_2}\n",
        "# TypeError: unhashable type: 'list'"
      ],
      "metadata": {
        "colab": {
          "base_uri": "https://localhost:8080/",
          "height": 0
        },
        "id": "mA1mEGTJHrxt",
        "outputId": "fffd580e-f6c8-440d-f5e1-8ecedd5affff"
      },
      "execution_count": 17,
      "outputs": [
        {
          "output_type": "error",
          "ename": "TypeError",
          "evalue": "ignored",
          "traceback": [
            "\u001b[0;31m---------------------------------------------------------------------------\u001b[0m",
            "\u001b[0;31mTypeError\u001b[0m                                 Traceback (most recent call last)",
            "\u001b[0;32m<ipython-input-17-abf1707f4dea>\u001b[0m in \u001b[0;36m<module>\u001b[0;34m\u001b[0m\n\u001b[1;32m      1\u001b[0m \u001b[0mteam_1\u001b[0m \u001b[0;34m=\u001b[0m \u001b[0;34m[\u001b[0m\u001b[0mhero\u001b[0m\u001b[0;34m,\u001b[0m \u001b[0mguide\u001b[0m\u001b[0;34m]\u001b[0m\u001b[0;34m\u001b[0m\u001b[0;34m\u001b[0m\u001b[0m\n\u001b[1;32m      2\u001b[0m \u001b[0mteam_2\u001b[0m \u001b[0;34m=\u001b[0m \u001b[0;34m[\u001b[0m\u001b[0menemy\u001b[0m\u001b[0;34m]\u001b[0m\u001b[0;34m\u001b[0m\u001b[0;34m\u001b[0m\u001b[0m\n\u001b[0;32m----> 3\u001b[0;31m \u001b[0mteams\u001b[0m \u001b[0;34m=\u001b[0m \u001b[0;34m{\u001b[0m\u001b[0mteam_1\u001b[0m\u001b[0;34m,\u001b[0m \u001b[0mteam_2\u001b[0m\u001b[0;34m}\u001b[0m\u001b[0;34m\u001b[0m\u001b[0;34m\u001b[0m\u001b[0m\n\u001b[0m\u001b[1;32m      4\u001b[0m \u001b[0;31m# TypeError: unhashable type: 'list'\u001b[0m\u001b[0;34m\u001b[0m\u001b[0;34m\u001b[0m\u001b[0;34m\u001b[0m\u001b[0m\n",
            "\u001b[0;31mTypeError\u001b[0m: unhashable type: 'list'"
          ]
        }
      ]
    },
    {
      "cell_type": "code",
      "source": [
        "characters = {hero, guide, enemy}\n",
        "print(characters)\n",
        "# {'Lord V.', 'Dumbledore', 'Harry'}"
      ],
      "metadata": {
        "colab": {
          "base_uri": "https://localhost:8080/"
        },
        "id": "haYobpB0Hv6d",
        "outputId": "58cfacea-aab7-4b94-a9fd-b39ed42314a0"
      },
      "execution_count": 18,
      "outputs": [
        {
          "output_type": "stream",
          "name": "stdout",
          "text": [
            "{'Harry', 'Lord V.', 'Dumbledore'}\n"
          ]
        }
      ]
    },
    {
      "cell_type": "code",
      "source": [
        "clone_army = {hero, hero, hero, hero, hero, enemy}\n",
        "print(clone_army)\n",
        "# {'Lord V.', 'Harry'}"
      ],
      "metadata": {
        "colab": {
          "base_uri": "https://localhost:8080/"
        },
        "id": "UtANYduuHywp",
        "outputId": "633377e8-fafa-419b-b6e6-ca5b4a642602"
      },
      "execution_count": 19,
      "outputs": [
        {
          "output_type": "stream",
          "name": "stdout",
          "text": [
            "{'Harry', 'Lord V.'}\n"
          ]
        }
      ]
    },
    {
      "cell_type": "markdown",
      "source": [
        "Associative arrays"
      ],
      "metadata": {
        "id": "tWfnZwPoH48c"
      }
    },
    {
      "cell_type": "code",
      "source": [
        "calories = {'apple' : 52, 'banana' : 89, 'choco' : 546}\n",
        "print(calories['apple'] < calories['choco'])\n",
        "# True\n",
        "calories['cappu'] = 74\n",
        "print(calories['banana'] < calories['cappu'])\n",
        "# False\n",
        "print('apple' in calories.keys())\n",
        "# True\n",
        "print(52 in calories.values())\n",
        "# True\n",
        "for k, v in calories.items():\n",
        "    print(k) if v > 500 else None\n",
        "# 'choco'"
      ],
      "metadata": {
        "colab": {
          "base_uri": "https://localhost:8080/"
        },
        "id": "qDe1w96wH5hT",
        "outputId": "b80eae0a-d0d6-454c-debe-dcbc0873c2c2"
      },
      "execution_count": 20,
      "outputs": [
        {
          "output_type": "stream",
          "name": "stdout",
          "text": [
            "True\n",
            "False\n",
            "True\n",
            "True\n",
            "choco\n"
          ]
        }
      ]
    },
    {
      "cell_type": "markdown",
      "source": [
        "Affiliation"
      ],
      "metadata": {
        "id": "d-oE40o1IC-1"
      }
    },
    {
      "cell_type": "code",
      "source": [
        "print(42 in [2, 39, 42])\n",
        "# True\n",
        "print(\"21\" in {\"2\", \"39\", \"42\"}) # False\n",
        "print(\"list\" in {\"list\" : [1, 2, 3], \"set\" : {1,2,3}})\n",
        "# True"
      ],
      "metadata": {
        "colab": {
          "base_uri": "https://localhost:8080/"
        },
        "id": "3rSP6tMbICT0",
        "outputId": "365438ee-448f-440a-f086-1ceae970d9fa"
      },
      "execution_count": 21,
      "outputs": [
        {
          "output_type": "stream",
          "name": "stdout",
          "text": [
            "True\n",
            "False\n",
            "True\n"
          ]
        }
      ]
    },
    {
      "cell_type": "markdown",
      "source": [
        "Listing 1.10. Using the keywords if, else and elif"
      ],
      "metadata": {
        "id": "iq1mN0XEIRl2"
      }
    },
    {
      "cell_type": "code",
      "source": [
        "x = int(input(\"your value: \"))\n",
        "if x > 3:\n",
        "  print(\"Big\")\n",
        "elif x == 3:\n",
        "  print(\"Medium\") \n",
        "else:\n",
        "  print(\"Small\")"
      ],
      "metadata": {
        "colab": {
          "base_uri": "https://localhost:8080/"
        },
        "id": "fIiCurEDISAW",
        "outputId": "d82a91c4-af32-4d78-c7f9-88e27f34816b"
      },
      "execution_count": 23,
      "outputs": [
        {
          "output_type": "stream",
          "name": "stdout",
          "text": [
            "your value: 3\n",
            "Medium\n"
          ]
        }
      ]
    },
    {
      "cell_type": "markdown",
      "source": [
        "Listing 1.11. Keywords for and while"
      ],
      "metadata": {
        "id": "USBLmnEqIocR"
      }
    },
    {
      "cell_type": "code",
      "source": [
        "for i in [0, 1, 2]:\n",
        "  print(i)\n",
        "''' 0\n",
        "1\n",
        "2 '''\n"
      ],
      "metadata": {
        "colab": {
          "base_uri": "https://localhost:8080/",
          "height": 0
        },
        "id": "NavNIgCyIo2n",
        "outputId": "a8d04393-44cb-42ef-9cd4-c30020264a30"
      },
      "execution_count": 26,
      "outputs": [
        {
          "output_type": "stream",
          "name": "stdout",
          "text": [
            "0\n",
            "1\n",
            "2\n"
          ]
        },
        {
          "output_type": "execute_result",
          "data": {
            "text/plain": [
              "' 0\\n1\\n2 '"
            ],
            "application/vnd.google.colaboratory.intrinsic+json": {
              "type": "string"
            }
          },
          "metadata": {},
          "execution_count": 26
        }
      ]
    },
    {
      "cell_type": "code",
      "source": [
        "while True:\n",
        "   break \n",
        "print(\"hello world\")\n",
        "# hello world"
      ],
      "metadata": {
        "colab": {
          "base_uri": "https://localhost:8080/"
        },
        "id": "1YhIC-LyI-Wa",
        "outputId": "adc0fb62-94cf-4edd-fc5d-8b7a2eaf5139"
      },
      "execution_count": 28,
      "outputs": [
        {
          "output_type": "stream",
          "name": "stdout",
          "text": [
            "hello world\n"
          ]
        }
      ]
    },
    {
      "cell_type": "code",
      "source": [
        "while True:\n",
        "  continue #infinitely\n",
        "  print(\"43\")"
      ],
      "metadata": {
        "colab": {
          "base_uri": "https://localhost:8080/",
          "height": 0
        },
        "id": "wWLTqFRCJCVm",
        "outputId": "54405493-7bc6-4cef-d245-d0c662959a0d"
      },
      "execution_count": 29,
      "outputs": [
        {
          "output_type": "error",
          "ename": "KeyboardInterrupt",
          "evalue": "ignored",
          "traceback": [
            "\u001b[0;31m---------------------------------------------------------------------------\u001b[0m",
            "\u001b[0;31mKeyboardInterrupt\u001b[0m                         Traceback (most recent call last)",
            "\u001b[0;32m<ipython-input-29-ae11e79f9071>\u001b[0m in \u001b[0;36m<module>\u001b[0;34m\u001b[0m\n\u001b[1;32m      1\u001b[0m \u001b[0;32mwhile\u001b[0m \u001b[0;32mTrue\u001b[0m\u001b[0;34m:\u001b[0m\u001b[0;34m\u001b[0m\u001b[0;34m\u001b[0m\u001b[0m\n\u001b[0;32m----> 2\u001b[0;31m   \u001b[0;32mcontinue\u001b[0m\u001b[0;34m\u001b[0m\u001b[0;34m\u001b[0m\u001b[0m\n\u001b[0m\u001b[1;32m      3\u001b[0m   \u001b[0mprint\u001b[0m\u001b[0;34m(\u001b[0m\u001b[0;34m\"43\"\u001b[0m\u001b[0;34m)\u001b[0m\u001b[0;34m\u001b[0m\u001b[0;34m\u001b[0m\u001b[0m\n",
            "\u001b[0;31mKeyboardInterrupt\u001b[0m: "
          ]
        }
      ]
    },
    {
      "cell_type": "markdown",
      "source": [
        "Listing 1.14. Functions"
      ],
      "metadata": {
        "id": "CNqhbGCdJS8I"
      }
    },
    {
      "cell_type": "code",
      "source": [
        "def appreciate(x, percentage):\n",
        "   return x + x * percentage / 100\n",
        "print(appreciate(10000, 5))\n",
        "# 10500.0"
      ],
      "metadata": {
        "colab": {
          "base_uri": "https://localhost:8080/"
        },
        "id": "qAdtmrWZJTew",
        "outputId": "a6eec666-88e0-4798-f48b-34e7e8bc5bbc"
      },
      "execution_count": 30,
      "outputs": [
        {
          "output_type": "stream",
          "name": "stdout",
          "text": [
            "10500.0\n"
          ]
        }
      ]
    },
    {
      "cell_type": "code",
      "source": [
        "print((lambda x: x + 3)(3))\n",
        "#6"
      ],
      "metadata": {
        "colab": {
          "base_uri": "https://localhost:8080/"
        },
        "id": "oaS86tUnJZpm",
        "outputId": "5a91a878-fa37-4484-eab9-f4d18424dd07"
      },
      "execution_count": 31,
      "outputs": [
        {
          "output_type": "stream",
          "name": "stdout",
          "text": [
            "6\n"
          ]
        }
      ]
    },
    {
      "cell_type": "markdown",
      "source": [
        "# Сhapter 2\n"
      ],
      "metadata": {
        "id": "zSaadrdJKwe8"
      }
    },
    {
      "cell_type": "markdown",
      "source": [],
      "metadata": {
        "id": "hxOnwvzVKzxr"
      }
    }
  ]
}